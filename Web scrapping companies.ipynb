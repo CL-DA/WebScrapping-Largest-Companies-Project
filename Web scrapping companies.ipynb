{
 "cells": [
  {
   "cell_type": "code",
   "execution_count": null,
   "id": "46b8d790-da82-4016-8cdc-c4a32b4c830c",
   "metadata": {},
   "outputs": [],
   "source": [
    "from bs4 import BeautifulSoup\n",
    "import requests\n",
    "import pandas as pd\n",
    "url=\"https://en.wikipedia.org/wiki/List_of_largest_companies_by_revenue\"\n",
    "page=requests.get(url)\n",
    "soup=BeautifulSoup(page.text,'html')\n",
    "table=soup.find_all('table')[0]\n",
    "world_titles=table.find_all('th')\n",
    "world_table_titles=[title.text.strip() for title in world_titles]\n",
    "world_table_titles=world_table_titles[0:7]\n",
    "world_table_titles[6]='Headquarters'\n",
    "df=pd.DataFrame(columns=world_table_titles)\n",
    "df\n",
    "column_data=table.find_all('tr')\n",
    "x=1\n",
    "for row in column_data[2:]:\n",
    "    row_data=row.find_all('td')\n",
    "    individual_row_data=[data.text.strip() for data in row_data][:6]\n",
    "    individual_row_data.insert(0,x)\n",
    "    x=x+1\n",
    "    length=len(df)\n",
    "    df.loc[length]=individual_row_data\n",
    "df.to_csv(r'C:\\Users\\CL\\Documents\\Companies.csv', index = False)\n"
   ]
  }
 ],
 "metadata": {
  "kernelspec": {
   "display_name": "Python 3 (ipykernel)",
   "language": "python",
   "name": "python3"
  },
  "language_info": {
   "codemirror_mode": {
    "name": "ipython",
    "version": 3
   },
   "file_extension": ".py",
   "mimetype": "text/x-python",
   "name": "python",
   "nbconvert_exporter": "python",
   "pygments_lexer": "ipython3",
   "version": "3.12.4"
  }
 },
 "nbformat": 4,
 "nbformat_minor": 5
}
